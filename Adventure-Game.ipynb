{
 "cells": [
  {
   "cell_type": "code",
   "execution_count": 1,
   "metadata": {},
   "outputs": [
    {
     "name": "stdout",
     "output_type": "stream",
     "text": [
      "LEVEL ONE: \n",
      "\n",
      "Welcome to the Lilly Pad of Doom \n",
      "\n",
      "[{'name': 'Iron Hammer', 'power': 'Smash Attack', 'status': 'First Class'}, {'name': 'White Lotus', 'power': 'Slish Slash Attack', 'status': 'Second Class'}, {'name': 'Jake From State Farm', 'power': 'Incendiary Flatulence Attack', 'status': 'First Class'}]\n"
     ]
    }
   ],
   "source": [
    "#Intro to Python, Adventure Game:\n",
    "main_characterdict= [\n",
    "    {'name':'Iron Hammer', 'power':'Smash Attack','status':'First Class'},\n",
    "    {'name':'White Lotus', 'power':'Slish Slash Attack', 'status':'Second Class'},\n",
    "    {'name':'Jake From State Farm', 'power':'Incendiary Flatulence Attack', 'status':'First Class'}\n",
    "]\n",
    "\n",
    "#Level One:\n",
    "print(\"LEVEL ONE: \\n\")\n",
    "print(\"Welcome to the Lilly Pad of Doom \\n\")\n",
    "print(main_characterdict)\n",
    "print(input(\"Choose your Player\"))\n",
    "\n"
   ]
  }
 ],
 "metadata": {
  "kernelspec": {
   "display_name": "Python 3",
   "language": "python",
   "name": "python3"
  },
  "language_info": {
   "codemirror_mode": {
    "name": "ipython",
    "version": 3
   },
   "file_extension": ".py",
   "mimetype": "text/x-python",
   "name": "python",
   "nbconvert_exporter": "python",
   "pygments_lexer": "ipython3",
   "version": "3.12.2"
  }
 },
 "nbformat": 4,
 "nbformat_minor": 2
}
