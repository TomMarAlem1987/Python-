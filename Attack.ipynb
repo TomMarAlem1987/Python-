{
 "cells": [
  {
   "cell_type": "code",
   "execution_count": 10,
   "metadata": {},
   "outputs": [
    {
     "ename": "NameError",
     "evalue": "name 'random' is not defined",
     "output_type": "error",
     "traceback": [
      "\u001b[1;31m---------------------------------------------------------------------------\u001b[0m",
      "\u001b[1;31mNameError\u001b[0m                                 Traceback (most recent call last)",
      "Cell \u001b[1;32mIn[10], line 23\u001b[0m\n\u001b[0;32m     18\u001b[0m     \u001b[38;5;28;01mdef\u001b[39;00m \u001b[38;5;21mis_alive\u001b[39m(\u001b[38;5;28mself\u001b[39m):\n\u001b[0;32m     19\u001b[0m         \u001b[38;5;28mself\u001b[39m\u001b[38;5;241m.\u001b[39mhp \u001b[38;5;241m>\u001b[39m \u001b[38;5;241m0\u001b[39m\n\u001b[1;32m---> 23\u001b[0m attacker  \u001b[38;5;241m=\u001b[39m Character(\u001b[38;5;124m'\u001b[39m\u001b[38;5;124mDarth Vader\u001b[39m\u001b[38;5;124m'\u001b[39m,\u001b[38;5;241m100\u001b[39m, \u001b[43mrandom\u001b[49m\u001b[38;5;241m.\u001b[39matk(\u001b[38;5;241m1\u001b[39m,\u001b[38;5;241m10\u001b[39m), random\u001b[38;5;241m.\u001b[39mdfns(\u001b[38;5;241m1\u001b[39m,\u001b[38;5;241m10\u001b[39m))\n\u001b[0;32m     24\u001b[0m defender  \u001b[38;5;241m=\u001b[39m Character(\u001b[38;5;124m'\u001b[39m\u001b[38;5;124mLuke Skywalker\u001b[39m\u001b[38;5;124m'\u001b[39m, \u001b[38;5;241m100\u001b[39m, random\u001b[38;5;241m.\u001b[39matk(\u001b[38;5;241m1\u001b[39m,\u001b[38;5;241m10\u001b[39m), random\u001b[38;5;241m.\u001b[39mdfns(\u001b[38;5;241m1\u001b[39m,\u001b[38;5;241m10\u001b[39m))\n\u001b[0;32m     26\u001b[0m \u001b[38;5;28;01mdef\u001b[39;00m \u001b[38;5;21mcombat\u001b[39m(charOne, charTwo):\n",
      "\u001b[1;31mNameError\u001b[0m: name 'random' is not defined"
     ]
    }
   ],
   "source": [
    "#The intention is to run a battle simulation utilizing the random operator.\n",
    "import math\n",
    "\n",
    "class Character:\n",
    "    def __init__(self, name, hp, atk, dfns):\n",
    "        self.name = name\n",
    "        self.hp = hp\n",
    "        self.atk = atk\n",
    "        self.dfns = dfns\n",
    "    def attack(self, other):\n",
    "        if self.atk > other.dfns:\n",
    "            x= self.atk - other.dfns\n",
    "            other.hp = other.hp - x\n",
    "            print(f'Wow! What a punch! {self.name} really knows what he is doing!')\n",
    "        else:\n",
    "            self.hp = self.hp - (other.dfns - self.atk)\n",
    "            print(f'Not good! {self.name} really took a hit on that one.')\n",
    "    def is_alive(self):\n",
    "        self.hp > 0\n",
    "            \n",
    "        \n",
    "\n",
    "attacker  = Character('Darth Vader',100, random.atk(1,10), random.dfns(1,10))\n",
    "defender  = Character('Luke Skywalker', 100, random.atk(1,10), random.dfns(1,10))\n",
    "\n",
    "def combat(charOne, charTwo):\n",
    "    while True:\n",
    "        if charOne.is_alive() and charTwo.is_alive():\n",
    "            charOne.attack(charTwo)\n",
    "            if charTwo.is_alive():\n",
    "                charTwo.attack(charOne)\n",
    "        else:\n",
    "            if charOne.is_alive():\n",
    "                print(f'{charOne.name} has vanquished Skywalker!')\n",
    "            if charTwo.is_alive():\n",
    "                print(f'{charTwo.name} has saved the Galactic Federation!')\n",
    "            break\n",
    "combat(attacker,defender)"
   ]
  }
 ],
 "metadata": {
  "kernelspec": {
   "display_name": "Python 3",
   "language": "python",
   "name": "python3"
  },
  "language_info": {
   "codemirror_mode": {
    "name": "ipython",
    "version": 3
   },
   "file_extension": ".py",
   "mimetype": "text/x-python",
   "name": "python",
   "nbconvert_exporter": "python",
   "pygments_lexer": "ipython3",
   "version": "3.12.2"
  }
 },
 "nbformat": 4,
 "nbformat_minor": 2
}
