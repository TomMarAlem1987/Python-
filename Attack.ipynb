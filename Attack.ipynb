{
 "cells": [
  {
   "cell_type": "code",
   "execution_count": 5,
   "metadata": {},
   "outputs": [
    {
     "name": "stdout",
     "output_type": "stream",
     "text": [
      "Wow! What a punch! Darth Vader really knows what he is doing!\n",
      "Wow! What a punch! Luke Skywalker really knows what he is doing!\n",
      "Wow! What a punch! Darth Vader really knows what he is doing!\n",
      "Wow! What a punch! Luke Skywalker really knows what he is doing!\n",
      "Wow! What a punch! Darth Vader really knows what he is doing!\n",
      "Wow! What a punch! Luke Skywalker really knows what he is doing!\n",
      "Wow! What a punch! Darth Vader really knows what he is doing!\n",
      "Wow! What a punch! Luke Skywalker really knows what he is doing!\n",
      "Wow! What a punch! Darth Vader really knows what he is doing!\n",
      "Wow! What a punch! Luke Skywalker really knows what he is doing!\n",
      "Wow! What a punch! Darth Vader really knows what he is doing!\n",
      "Wow! What a punch! Luke Skywalker really knows what he is doing!\n",
      "Wow! What a punch! Darth Vader really knows what he is doing!\n",
      "Wow! What a punch! Luke Skywalker really knows what he is doing!\n",
      "Wow! What a punch! Darth Vader really knows what he is doing!\n",
      "Wow! What a punch! Luke Skywalker really knows what he is doing!\n",
      "Wow! What a punch! Darth Vader really knows what he is doing!\n",
      "Wow! What a punch! Luke Skywalker really knows what he is doing!\n",
      "Wow! What a punch! Darth Vader really knows what he is doing!\n",
      "Wow! What a punch! Luke Skywalker really knows what he is doing!\n",
      "Wow! What a punch! Darth Vader really knows what he is doing!\n",
      "Wow! What a punch! Luke Skywalker really knows what he is doing!\n",
      "Wow! What a punch! Darth Vader really knows what he is doing!\n",
      "Wow! What a punch! Luke Skywalker really knows what he is doing!\n",
      "Wow! What a punch! Darth Vader really knows what he is doing!\n",
      "Wow! What a punch! Luke Skywalker really knows what he is doing!\n",
      "Wow! What a punch! Darth Vader really knows what he is doing!\n",
      "Wow! What a punch! Luke Skywalker really knows what he is doing!\n",
      "Wow! What a punch! Darth Vader really knows what he is doing!\n",
      "Wow! What a punch! Luke Skywalker really knows what he is doing!\n",
      "Wow! What a punch! Darth Vader really knows what he is doing!\n",
      "Wow! What a punch! Luke Skywalker really knows what he is doing!\n",
      "Wow! What a punch! Darth Vader really knows what he is doing!\n",
      "Darth Vader has vanquished Skywalker!\n"
     ]
    }
   ],
   "source": [
    "#The intention is to run a battle simulation utilizing the random operator.\n",
    "import random\n",
    "\n",
    "class Character:\n",
    "    def __init__(self, name, hp, atk, dfns):\n",
    "        self.name = name\n",
    "        self.hp = hp\n",
    "        self.atk = atk\n",
    "        self.dfns = dfns\n",
    "    def attack(self, other):\n",
    "        if self.atk > other.dfns:\n",
    "            x= self.atk - other.dfns\n",
    "            other.hp = other.hp - x\n",
    "            print(f'Wow! What a punch! {self.name} really knows what he is doing!')\n",
    "        else:\n",
    "            self.hp = self.hp - (other.dfns - self.atk)\n",
    "            print(f'Not good! {self.name} really took a hit on that one.')\n",
    "    def is_alive(self):\n",
    "        return self.hp > 0\n",
    "            \n",
    "        \n",
    "\n",
    "rand_intone = random.randint(1, 10)\n",
    "rand_inttwo = random.randint(1, 10)\n",
    "rand_intthree = random.randint(1, 10)\n",
    "rand_intfour = random.randint(1, 10)\n",
    "\n",
    "char_one  = Character('Darth Vader',100, rand_intone, rand_inttwo)\n",
    "char_two  = Character('Luke Skywalker', 100, rand_intthree, rand_intfour)\n",
    "\n",
    "def combat(char_one, char_two):\n",
    "    while True:\n",
    "        if char_one.is_alive() and char_two.is_alive():\n",
    "            char_one.attack(char_two)\n",
    "            if char_two.is_alive():\n",
    "                char_two.attack(char_one)\n",
    "        else:\n",
    "            if char_one.is_alive():\n",
    "                print(f'{char_one.name} has vanquished Skywalker!')\n",
    "            if char_two.is_alive():\n",
    "                print(f'{char_two.name} has saved the Galactic Federation!')\n",
    "            break\n",
    "combat(char_one, char_two)"
   ]
  }
 ],
 "metadata": {
  "kernelspec": {
   "display_name": "Python 3",
   "language": "python",
   "name": "python3"
  },
  "language_info": {
   "codemirror_mode": {
    "name": "ipython",
    "version": 3
   },
   "file_extension": ".py",
   "mimetype": "text/x-python",
   "name": "python",
   "nbconvert_exporter": "python",
   "pygments_lexer": "ipython3",
   "version": "3.12.5"
  }
 },
 "nbformat": 4,
 "nbformat_minor": 2
}
