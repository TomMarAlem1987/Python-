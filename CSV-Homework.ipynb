{
 "cells": [
  {
   "cell_type": "markdown",
   "metadata": {},
   "source": [
    "CSV File Handling Assignment\n",
    "Exercise 1: Basic CSV File Operations\n",
    "In this exercise, you'll apply basic operations on CSV files using Python's csv module.\n",
    "\n",
    "Task 1.1: Write a Python script to create a CSV file named students.csv and add the following data to it:\n",
    "Headers: Name, Age, Major\n",
    "Rows:\n",
    "Alice, 24, Computer Science\n",
    "Bob, 22, Mathematics\n",
    "Charlie, 23, Physics\n",
    "Ensure you close the file properly after writing."
   ]
  },
  {
   "cell_type": "code",
   "execution_count": 3,
   "metadata": {},
   "outputs": [],
   "source": [
    "# Importing the csv module from python. \n",
    "import csv\n",
    "\n",
    "# Example content to be written to new file:\n",
    "sample_content = \"\"\"Name, Age, Major\n",
    "Alice, 24, Computer Science\n",
    "Bob, 22, Mathematics\n",
    "Charlie, 23, Physics\n",
    "\"\"\"\n",
    "\n",
    "#Creating then writing to the new file:\n",
    "with open('students.csv', 'w') as example:\n",
    "    example.write(sample_content)\n",
    "    \n",
    "    "
   ]
  },
  {
   "cell_type": "markdown",
   "metadata": {},
   "source": [
    "Task 1.2: Read the file students.csv you just created, print each row to the console."
   ]
  },
  {
   "cell_type": "code",
   "execution_count": 6,
   "metadata": {},
   "outputs": [
    {
     "name": "stdout",
     "output_type": "stream",
     "text": [
      "['Name', ' Age', ' Major']\n",
      "['Alice', ' 24', ' Computer Science']\n",
      "['Bob', ' 22', ' Mathematics']\n",
      "['Charlie', ' 23', ' Physics']\n"
     ]
    }
   ],
   "source": [
    "import csv\n",
    "with open('students.csv', 'r') as example:\n",
    "    csv_reader = csv.reader(example)\n",
    "    for row in csv_reader:\n",
    "        print(row)"
   ]
  },
  {
   "cell_type": "markdown",
   "metadata": {},
   "source": [
    "Task 1.3: Append a new row with your own choice of data to students.csv and print the entire file content to verify the addition."
   ]
  },
  {
   "cell_type": "code",
   "execution_count": 13,
   "metadata": {},
   "outputs": [
    {
     "name": "stdout",
     "output_type": "stream",
     "text": [
      "['Name', ' Age', ' Major']\n",
      "['Alice', ' 24', ' Computer Science']\n",
      "['Bob', ' 22', ' Mathematics']\n",
      "['Charlie', ' 23', ' Physics']\n",
      "['Jennifer', '25', 'Music']\n",
      "['A.J', '21', 'Dance']\n"
     ]
    }
   ],
   "source": [
    "# Writing to a csv file and reading it:\n",
    "import csv\n",
    "\n",
    "# List to append:\n",
    "list_append = [[\"Jennifer\" , 25 , \"Music\"] , [\"A.J\" , 21 , \"Dance\"]]\n",
    "\n",
    "# Performing the write funciton:\n",
    "with open('students.csv', mode='a' , newline='') as example:\n",
    "    csv_append = csv.writer(example)\n",
    "    for row in list_append:\n",
    "        csv_append.writerow(row)\n",
    "        \n",
    "# Reading back the file to verify the appended material is in:\n",
    "with open('students.csv', 'r') as example:\n",
    "    csv_reader= csv.reader(example)\n",
    "    for row in csv_reader:\n",
    "        print(row)"
   ]
  },
  {
   "cell_type": "markdown",
   "metadata": {},
   "source": [
    "Exercise 2: Advanced CSV Handling\n",
    "Let's explore more sophisticated CSV handling techniques.\n",
    "\n",
    "Task 2.1: Create a CSV file courses.csv using a dictionary with fieldnames as CourseID, CourseName, and Instructor. Add at least 3 courses to the CSV and print the content of the file."
   ]
  },
  {
   "cell_type": "code",
   "execution_count": 22,
   "metadata": {},
   "outputs": [
    {
     "name": "stdout",
     "output_type": "stream",
     "text": [
      "{'CourseID': '1234', 'CourseName': 'Music', 'Instructor': 'Mr. Weiss'}\n",
      "{'CourseID': '5678', 'CourseName': 'Art', 'Instructor': 'Mrs. Stecklow'}\n",
      "{'CourseID': '9101', 'CourseName': 'Physics', 'Instructor': 'Mr. Young'}\n"
     ]
    }
   ],
   "source": [
    "# Creating a new csv file with novel key value pairs:\n",
    "# Creating the dictionary:\n",
    "dict_file =[ \n",
    "            {\"CourseID\": 1234 , \"CourseName\":\"Music\", \"Instructor\":\"Mr. Weiss\"},\n",
    "            {\"CourseID\": 5678 , \"CourseName\":\"Art\", \"Instructor\":\"Mrs. Stecklow\"},\n",
    "            {\"CourseID\": 9101 , \"CourseName\":\"Physics\", \"Instructor\":\"Mr. Young\"}\n",
    "            ]\n",
    "\n",
    "with open('courses.csv', 'w', newline='') as courses:\n",
    "    fieldnames= ['CourseID', 'CourseName', 'Instructor']\n",
    "    csv_dict_writer= csv.DictWriter(courses, fieldnames=fieldnames)\n",
    "    csv_dict_writer.writeheader()\n",
    "    for row in dict_file:\n",
    "        csv_dict_writer.writerow(row)\n",
    "        \n",
    "# Reading the written file:\n",
    "with open('courses.csv', 'r') as courses:\n",
    "    csv_dict_reader= csv.DictReader(courses)\n",
    "    for row in csv_dict_reader:\n",
    "        print(row)"
   ]
  },
  {
   "cell_type": "markdown",
   "metadata": {},
   "source": [
    "Task 2.2: Read the courses.csv file using DictReader and print each row as a dictionary."
   ]
  },
  {
   "cell_type": "code",
   "execution_count": 23,
   "metadata": {},
   "outputs": [
    {
     "name": "stdout",
     "output_type": "stream",
     "text": [
      "{'CourseID': '1234', 'CourseName': 'Music', 'Instructor': 'Mr. Weiss'}\n",
      "{'CourseID': '5678', 'CourseName': 'Art', 'Instructor': 'Mrs. Stecklow'}\n",
      "{'CourseID': '9101', 'CourseName': 'Physics', 'Instructor': 'Mr. Young'}\n"
     ]
    }
   ],
   "source": [
    "# Reading the written file:\n",
    "with open('courses.csv', 'r') as courses:\n",
    "    csv_dict_reader= csv.DictReader(courses)\n",
    "    for row in csv_dict_reader:\n",
    "        print(row)"
   ]
  },
  {
   "cell_type": "markdown",
   "metadata": {},
   "source": [
    "Task 2.3: Modify the delimiter of your CSV writer and reader to use a semicolon (;) instead of a comma, create a new file courses_semicolon.csv and perform read/write operations. Verify by printing the content."
   ]
  },
  {
   "cell_type": "code",
   "execution_count": 46,
   "metadata": {},
   "outputs": [],
   "source": [
    "# Custom delimiter example:\n",
    "import csv\n",
    "\n",
    "# Opening the old file and converting it to a list:\n",
    "with open('courses.csv', 'r', newline='') as old_file:\n",
    "    csv_reader= csv.reader(old_file)\n",
    "    contents_oldfile = [row for row in csv_reader] # row for row means that we are inspecting every row in each collumn.\n",
    "        \n",
    "# After we have the contents of the old file we can begin to change every.\n",
    "for row in contents_oldfile:\n",
    "    row[:]= [entry.replace(',',';') for entry in row]\n",
    "    # row[:]= rows from start to finish is going to be set to equal the replaced row containing the new delimiter.\n",
    "# Now begins the process of writing the contents of the old file to the new file. \n",
    "with open('courses_semicolon.csv', 'w', newline='') as new_content:\n",
    "    csv_writer= csv.writer(new_content, delimiter=';')\n",
    "    csv_writer.writerows(contents_oldfile)\n",
    "  \n"
   ]
  },
  {
   "cell_type": "markdown",
   "metadata": {},
   "source": [
    "Exercise 3: Error Handling\n",
    "Implement error handling in file operations to manage unexpected situations.\n",
    "\n",
    "Task 3.1: Attempt to read a file nonexistent.csv that does not exist, handle the FileNotFoundError to print a custom error message instead of the default traceback."
   ]
  },
  {
   "cell_type": "code",
   "execution_count": 62,
   "metadata": {},
   "outputs": [
    {
     "name": "stdout",
     "output_type": "stream",
     "text": [
      "This file does not exist, sorry!\n"
     ]
    }
   ],
   "source": [
    "#We import our os(Operating System module) so that we can check the filepath of the supposedly existing file. \n",
    "import os\n",
    "\n",
    "if os.path.exists('nonexistent.csv'):\n",
    "    print(\"This file exists and here it is, just for you!\")\n",
    "    with open('nonexistent.csv', 'r', newline='') as file_for_you:\n",
    "        pass\n",
    "\n",
    "else:\n",
    "    print(\"This file does not exist, sorry!\")\n",
    "    "
   ]
  }
 ],
 "metadata": {
  "kernelspec": {
   "display_name": "Python 3",
   "language": "python",
   "name": "python3"
  },
  "language_info": {
   "codemirror_mode": {
    "name": "ipython",
    "version": 3
   },
   "file_extension": ".py",
   "mimetype": "text/x-python",
   "name": "python",
   "nbconvert_exporter": "python",
   "pygments_lexer": "ipython3",
   "version": "3.12.2"
  }
 },
 "nbformat": 4,
 "nbformat_minor": 2
}
